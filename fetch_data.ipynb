{
 "cells": [
  {
   "attachments": {},
   "cell_type": "markdown",
   "metadata": {},
   "source": [
    "# Fatch data from coingecko "
   ]
  },
  {
   "cell_type": "code",
   "execution_count": null,
   "metadata": {},
   "outputs": [],
   "source": [
    "import time\n",
    "import requests\n",
    "import csv\n",
    "from datetime import datetime\n",
    "\n",
    "# Fetch the full list of coins\n",
    "coins_list_url = 'https://api.coingecko.com/api/v3/coins/list'\n",
    "response = requests.get(coins_list_url)\n",
    "coins_list = response.json()\n",
    "\n",
    "# Initialize counters and time variables\n",
    "counter = 0\n",
    "start_time = time.time()\n",
    "\n",
    "# Create and open the CSV file\n",
    "csv_file = open('coin_data.csv', 'w', newline='')\n",
    "csv_writer = csv.writer(csv_file)\n",
    "csv_writer.writerow(['Symbol', 'Date', 'Close', 'Volume'])  # Write header row\n",
    "\n",
    "# Iterate over each coin and fetch price and volume data\n",
    "for coin in coins_list:\n",
    " \n",
    "\n",
    "    # Check if the time limit of 1 minute has been reached\n",
    "    if counter >= 8 and time.time() - start_time < 60:\n",
    "        remaining_time = 60 - (time.time() - start_time)\n",
    "        print(f\"Waiting for {remaining_time:.2f} seconds to continue fetching...\")\n",
    "        time.sleep(remaining_time)\n",
    "        start_time = time.time()\n",
    "        counter = 0\n",
    "      # Define the coins of interest\n",
    "    coin_id = coin['id']\n",
    "    coin_symbol = coin['symbol']\n",
    "\n",
    "    coins_of_interest = ['binancecoin', 'bitcoin', 'cardano', 'cosmos', 'ethereum', 'filecoin','lido-dao','litecoin','matic-network','polkadot','ripple','solana']\n",
    "    if coin_id.lower() not in coins_of_interest :\n",
    "        continue\n",
    "\n",
    "    print(f\"Waiting for {coin_symbol} - {coin_id}\")\n",
    "    # Fetch price and volume data for the coin\n",
    "    market_chart_url = f'https://api.coingecko.com/api/v3/coins/{coin_id}/market_chart?vs_currency=usd&days=max&interval=daily'\n",
    "    response = requests.get(market_chart_url)\n",
    "    market_data = response.json()\n",
    "\n",
    "    # Extract prices and total volumes\n",
    "    prices = market_data['prices']\n",
    "    total_volumes = market_data['total_volumes']\n",
    "\n",
    "    # Process the data and write to the CSV file\n",
    "    for price, volume in zip(prices, total_volumes):\n",
    "        timestamp = price[0]\n",
    "        price_value = price[1]\n",
    "        volume_value = volume[1]\n",
    "        date = datetime.fromtimestamp(timestamp / 1000)  # Convert timestamp to date\n",
    "\n",
    "        # Write data to CSV file\n",
    "        csv_writer.writerow([coin_symbol, date, price_value, volume_value])\n",
    "\n",
    "    # Increment the counter\n",
    "    counter += 1\n",
    "\n",
    "# Close the CSV file\n",
    "csv_file.close()\n"
   ]
  }
 ],
 "metadata": {
  "kernelspec": {
   "display_name": "tf",
   "language": "python",
   "name": "python3"
  },
  "language_info": {
   "codemirror_mode": {
    "name": "ipython",
    "version": 3
   },
   "file_extension": ".py",
   "mimetype": "text/x-python",
   "name": "python",
   "nbconvert_exporter": "python",
   "pygments_lexer": "ipython3",
   "version": "3.9.16"
  },
  "orig_nbformat": 4
 },
 "nbformat": 4,
 "nbformat_minor": 2
}
